{
  "nbformat": 4,
  "nbformat_minor": 0,
  "metadata": {
    "colab": {
      "name": "purchase & Sales.ipynb",
      "provenance": [],
      "collapsed_sections": []
    },
    "kernelspec": {
      "name": "python3",
      "display_name": "Python 3"
    },
    "language_info": {
      "name": "python"
    }
  },
  "cells": [
    {
      "cell_type": "code",
      "metadata": {
        "id": "rr6JSNZcQvvt"
      },
      "source": [
        "import json\n"
      ],
      "execution_count": null,
      "outputs": []
    },
    {
      "cell_type": "code",
      "metadata": {
        "id": "XTId0RCGVbd5"
      },
      "source": [
        " fd = open(\"record.json\",'r')\n",
        " r = fd.read()\n",
        " fd.close()\n",
        "\n",
        " records=json.loads(r)"
      ],
      "execution_count": null,
      "outputs": []
    },
    {
      "cell_type": "code",
      "metadata": {
        "colab": {
          "base_uri": "https://localhost:8080/"
        },
        "id": "w24cRikdVdqY",
        "outputId": "270e7fa1-b2bd-44e1-c19a-2f8567756112"
      },
      "source": [
        "records"
      ],
      "execution_count": null,
      "outputs": [
        {
          "output_type": "execute_result",
          "data": {
            "text/plain": [
              "{'1001': {'Exp': '2-2022',\n",
              "  'Mfg': '10-2021',\n",
              "  'name': 'coke',\n",
              "  'pr': 50,\n",
              "  'qn': 590},\n",
              " '1002': {'Exp': '10-2021',\n",
              "  'Mfg': '9-2021',\n",
              "  'name': 'bread',\n",
              "  'pr': 100,\n",
              "  'qn': 80},\n",
              " '1003': {'Exp': '11-2021',\n",
              "  'Mfg': '10-2021',\n",
              "  'name': 'ice cream',\n",
              "  'pr': 40,\n",
              "  'qn': 50},\n",
              " '10031': {'Exp': '12-2021',\n",
              "  'Mfg': '10-2021',\n",
              "  'name': 'lays',\n",
              "  'pr': '10',\n",
              "  'qn': '56'},\n",
              " '1004': {'Exp': '2-2022',\n",
              "  'Mfg': '10-2021',\n",
              "  'name': 'water',\n",
              "  'pr': 10,\n",
              "  'qn': 30},\n",
              " '1005': {'Exp': '8-2021',\n",
              "  'Mfg': '5-2021',\n",
              "  'name': 'tomato sauce',\n",
              "  'pr': 10,\n",
              "  'qn': 85},\n",
              " '1006': {'Exp': '12-2021',\n",
              "  'Mfg': '10-2021',\n",
              "  'name': 'sweets',\n",
              "  'pr': 75,\n",
              "  'qn': 100},\n",
              " '1007': {'Exp': '8-2022',\n",
              "  'Mfg': '11-2021',\n",
              "  'name': 'Dried fruit',\n",
              "  'pr': 65,\n",
              "  'qn': 150},\n",
              " '1008': {'Exp': '9-2021', 'Mfg': '1-2021', 'name': 'jam', 'pr': 99, 'qn': 64},\n",
              " '1009': {'Exp': '11-2022',\n",
              "  'Mfg': '11-2021',\n",
              "  'name': 'oil',\n",
              "  'pr': 120,\n",
              "  'qn': 70},\n",
              " '1010': {'Exp': '10-2022',\n",
              "  'Mfg': '10-2021',\n",
              "  'name': 'candies',\n",
              "  'pr': 15,\n",
              "  'qn': 200},\n",
              " '1011': {'Exp': '2-2022',\n",
              "  'Mfg': '10-2020',\n",
              "  'name': 'salt',\n",
              "  'pr': 20,\n",
              "  'qn': 500},\n",
              " '1012': {'Exp': '12-2021',\n",
              "  'Mfg': '6-2021',\n",
              "  'name': 'cheese',\n",
              "  'pr': 60,\n",
              "  'qn': 55},\n",
              " '1013': {'Exp': '2-2022',\n",
              "  'Mfg': '11-2021',\n",
              "  'name': 'butter',\n",
              "  'pr': 35,\n",
              "  'qn': 65},\n",
              " '1014': {'Exp': '11-2021',\n",
              "  'Mfg': '10-2021',\n",
              "  'name': 'pizza',\n",
              "  'pr': 500,\n",
              "  'qn': 10},\n",
              " '1015': {'Exp': '12-2021',\n",
              "  'Mfg': '10-2021',\n",
              "  'name': 'popcorn',\n",
              "  'pr': 20,\n",
              "  'qn': 30},\n",
              " '1016': {'Exp': '11-2021',\n",
              "  'Mfg': '10-2021',\n",
              "  'name': 'cakes',\n",
              "  'pr': 250,\n",
              "  'qn': 15},\n",
              " '1017': {'Exp': '12-2021',\n",
              "  'Mfg': '1-2021',\n",
              "  'name': 'pasta',\n",
              "  'pr': 50,\n",
              "  'qn': 90},\n",
              " '1018': {'Exp': '11-2021',\n",
              "  'Mfg': '1-2021',\n",
              "  'name': 'noodles',\n",
              "  'pr': 40,\n",
              "  'qn': 90},\n",
              " '1019': {'Exp': '8-2022',\n",
              "  'Mfg': '10-2021',\n",
              "  'name': 'wheat',\n",
              "  'pr': 99,\n",
              "  'qn': 45},\n",
              " '1020': {'Exp': '10-2022',\n",
              "  'Mfg': '10-2021',\n",
              "  'name': 'rice',\n",
              "  'pr': 100,\n",
              "  'qn': 40},\n",
              " '1021': {'Exp': '1-2022',\n",
              "  'Mfg': '3-2021',\n",
              "  'name': 'oats',\n",
              "  'pr': 50,\n",
              "  'qn': 10},\n",
              " '1022': {'Exp': '11-2021',\n",
              "  'Mfg': '10-2021',\n",
              "  'name': 'burger',\n",
              "  'pr': 75,\n",
              "  'qn': 10},\n",
              " '1023': {'Exp': '10-2022',\n",
              "  'Mfg': '10-2021',\n",
              "  'name': 'fruit juice',\n",
              "  'pr': 20,\n",
              "  'qn': 90},\n",
              " '1024': {'Exp': '11-2021',\n",
              "  'Mfg': '10-2021',\n",
              "  'name': 'eggs',\n",
              "  'pr': 5,\n",
              "  'qn': 30},\n",
              " '1025': {'Exp': '10-2021',\n",
              "  'Mfg': '1-2021',\n",
              "  'name': 'sandwich',\n",
              "  'pr': 35,\n",
              "  'qn': 15},\n",
              " '1026': {'Exp': '11-2021',\n",
              "  'Mfg': '9-2021',\n",
              "  'name': 'milk',\n",
              "  'pr': 35,\n",
              "  'qn': 10},\n",
              " '1027': {'Exp': '11-2021',\n",
              "  'Mfg': '10-2021',\n",
              "  'name': 'curd',\n",
              "  'pr': 20,\n",
              "  'qn': 20},\n",
              " '1028': {'Exp': '11-2021',\n",
              "  'Mfg': '10-2021',\n",
              "  'name': 'donut',\n",
              "  'pr': 30,\n",
              "  'qn': 40},\n",
              " '1029': {'Exp': '10-2021',\n",
              "  'Mfg': '9-2021',\n",
              "  'name': 'mushrooms',\n",
              "  'pr': 50,\n",
              "  'qn': 50},\n",
              " '1030': {'Exp': '12-2021',\n",
              "  'Mfg': '10-2021',\n",
              "  'name': 'chips',\n",
              "  'pr': 20,\n",
              "  'qn': 90},\n",
              " '1031': {'Exp': '3-2022',\n",
              "  'Mfg': '10-2021',\n",
              "  'name': 'lays',\n",
              "  'pr': '10',\n",
              "  'qn': '40'},\n",
              " '1032': {'Exp': '12-2021',\n",
              "  'Mfg': '1-2021',\n",
              "  'name': 'dairy milk',\n",
              "  'pr': '25',\n",
              "  'qn': '56'}}"
            ]
          },
          "metadata": {},
          "execution_count": 208
        }
      ]
    },
    {
      "cell_type": "code",
      "metadata": {
        "id": "Jt21_f4XViE-"
      },
      "source": [
        ""
      ],
      "execution_count": null,
      "outputs": []
    },
    {
      "cell_type": "markdown",
      "metadata": {
        "id": "Lfrp3whhVl_Q"
      },
      "source": [
        "# *purchase*"
      ]
    },
    {
      "cell_type": "code",
      "metadata": {
        "id": "B9CuHNx9do2B"
      },
      "source": [
        "import time"
      ],
      "execution_count": null,
      "outputs": []
    },
    {
      "cell_type": "code",
      "metadata": {
        "colab": {
          "base_uri": "https://localhost:8080/"
        },
        "id": "cNVBBKr_-WpH",
        "outputId": "15740618-e17b-41ba-bfa1-a6e243c3862d"
      },
      "source": [
        "ui_prod=str (input(\"enter the product_id:\"))\n",
        "ui_quant=int (input(\"enter the quantity:\"))\n",
        "\n",
        "\n",
        "if (ui_prod in records.keys()):\n",
        "      print(\"product_id exist\")\n",
        "      print(\"**********Bill**********************\")\n",
        "      print(\"Product:\",records[ui_prod]['name'])\n",
        "      print(\"Price:\",records[ui_prod]['pr'])\n",
        "      print(\"Billing Amount:\",records[ui_prod]['pr'] * ui_quant)\n",
        "      t=time.ctime()\n",
        "      print(\"Time:\",t)\n",
        "\n",
        "      print(\"*********Thank You have a nice day**************\" )\n",
        "      records[ui_prod]['qn'] = records[ui_prod]['qn'] - ui_quant\n",
        "           \n",
        "else:\n",
        "     print(\"product_id doesnt exist:\")\n",
        "     print(\"enter the correct product_id:\")\n"
      ],
      "execution_count": 227,
      "outputs": [
        {
          "output_type": "stream",
          "name": "stdout",
          "text": [
            "enter the product_id:1018\n",
            "enter the quantity:3\n",
            "product_id exist\n",
            "**********Bill**********************\n",
            "Product: noodles\n",
            "Price: 40\n",
            "Billing Amount: 120\n",
            "Time: Mon Sep  6 15:07:46 2021\n",
            "*********Thank You have a nice day**************\n"
          ]
        }
      ]
    },
    {
      "cell_type": "markdown",
      "metadata": {
        "id": "vefU-CW9fooE"
      },
      "source": [
        "Updating Inventroy after **purchase** \n",
        "\n"
      ]
    },
    {
      "cell_type": "code",
      "metadata": {
        "id": "oX8WK66cf8ze"
      },
      "source": [
        "js = json.dumps(records)\n",
        "fd = open(\"record.json\",'w')\n",
        "fd.write(js)\n",
        "fd.close()"
      ],
      "execution_count": 233,
      "outputs": []
    },
    {
      "cell_type": "code",
      "metadata": {
        "id": "Vy-ffIl7-bld"
      },
      "source": [
        ""
      ],
      "execution_count": null,
      "outputs": []
    },
    {
      "cell_type": "markdown",
      "metadata": {
        "id": "MvcEz3Tb_RpI"
      },
      "source": [
        "## **sales**"
      ]
    },
    {
      "cell_type": "code",
      "metadata": {
        "id": "tgW_YdPSjoUY"
      },
      "source": [
        "\n",
        "sales = { 1:{\"prod_id\":1001,\"name\":'cake', \"qn\":590, \"pr\":50,\"bill amount\":100,\"time\":t }}\n",
        "\n",
        "sales[len(sales)+1] = { (len(sales)+1): {'prod_id':ui_prod,\"name\":records[ui_prod]['name'], \"qn\":records[ui_prod]['qn'], \"pr\":records[ui_prod]['pr'],\"bill amount\":records[ui_prod]['pr'] * ui_quant, \"time\":t} }   \n",
        "\n",
        "\n",
        "sales =json.dumps(sales)\n",
        "\n",
        "fd = open(\"sales.json\",'w')\n",
        "fd.write(sales)\n",
        "fd.close()"
      ],
      "execution_count": 236,
      "outputs": []
    },
    {
      "cell_type": "markdown",
      "metadata": {
        "id": "g3zZRBOJph0K"
      },
      "source": [
        ""
      ]
    },
    {
      "cell_type": "code",
      "metadata": {
        "colab": {
          "base_uri": "https://localhost:8080/",
          "height": 69
        },
        "id": "Asgy7YwZoOKC",
        "outputId": "dd892933-7792-4df0-e4b6-21c170031a84"
      },
      "source": [
        "sales"
      ],
      "execution_count": 237,
      "outputs": [
        {
          "output_type": "execute_result",
          "data": {
            "application/vnd.google.colaboratory.intrinsic+json": {
              "type": "string"
            },
            "text/plain": [
              "'{\"1\": {\"prod_id\": 1001, \"name\": \"cake\", \"qn\": 590, \"pr\": 50, \"bill amount\": 100, \"time\": \"Mon Sep  6 15:07:46 2021\"}, \"2\": {\"2\": {\"prod_id\": \"1018\", \"name\": \"noodles\", \"qn\": 87, \"pr\": 40, \"bill amount\": 120, \"time\": \"Mon Sep  6 15:07:46 2021\"}}}'"
            ]
          },
          "metadata": {},
          "execution_count": 237
        }
      ]
    }
  ]
}